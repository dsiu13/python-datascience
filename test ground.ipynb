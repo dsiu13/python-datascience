{
 "cells": [
  {
   "cell_type": "code",
   "execution_count": 1,
   "metadata": {},
   "outputs": [
    {
     "name": "stdout",
     "output_type": "stream",
     "text": [
      "$5 Admission\n"
     ]
    }
   ],
   "source": [
    "age = 12 \n",
    "\n",
    "if age < 4:\n",
    "  print('Free Admission')\n",
    "elif age < 18:\n",
    "  print('$5 Admission')\n",
    "else:\n",
    "  print('$10 Admission')"
   ]
  },
  {
   "cell_type": "code",
   "execution_count": 2,
   "metadata": {},
   "outputs": [],
   "source": [
    "alien_color = 'red'\n",
    "\n",
    "if alien_color == 'green':\n",
    "  print('Earned 5 Pts')\n"
   ]
  },
  {
   "cell_type": "code",
   "execution_count": 3,
   "metadata": {},
   "outputs": [
    {
     "name": "stdout",
     "output_type": "stream",
     "text": [
      "Wrong\n"
     ]
    }
   ],
   "source": [
    "alien_color = 'red'\n",
    "\n",
    "if alien_color == 'green':\n",
    "  print('Earned 5 Pts')\n",
    "else:\n",
    "  print('Wrong')"
   ]
  },
  {
   "cell_type": "code",
   "execution_count": 4,
   "metadata": {},
   "outputs": [
    {
     "name": "stdout",
     "output_type": "stream",
     "text": [
      "15 pts\n"
     ]
    }
   ],
   "source": [
    "if alien_color == 'green':\n",
    "  print('5 pts')\n",
    "elif alien_color == 'yellow':\n",
    "  print('10 pts')\n",
    "elif alien_color == 'red':\n",
    "  print('15 pts')"
   ]
  },
  {
   "cell_type": "code",
   "execution_count": 2,
   "metadata": {},
   "outputs": [
    {
     "name": "stdout",
     "output_type": "stream",
     "text": [
      "Test\n"
     ]
    }
   ],
   "source": [
    "age = 3\n",
    "\n",
    "if age < 2:\n",
    "  print('Baby')\n",
    "elif age >= 2 or age <= 4:\n",
    "  print('Test')"
   ]
  },
  {
   "cell_type": "code",
   "execution_count": 4,
   "metadata": {},
   "outputs": [
    {
     "name": "stdout",
     "output_type": "stream",
     "text": [
      "Toddler\n",
      "Kid\n",
      "Teen\n",
      "Adult\n"
     ]
    }
   ],
   "source": [
    "age = 24\n",
    "\n",
    "if age < 2:\n",
    "  print('Baby')\n",
    "if age >= 2 or age < 4:\n",
    "  print('Toddler')\n",
    "if age >= 4 or age < 13:\n",
    "  print('Kid')\n",
    "if age >= 13 or age < 20:\n",
    "  print('Teen')\n",
    "if age >= 20 or age < 65:\n",
    "  print('Adult')\n",
    "if age >= 65:\n",
    "  print('Elder')"
   ]
  },
  {
   "cell_type": "code",
   "execution_count": 5,
   "metadata": {},
   "outputs": [
    {
     "name": "stdout",
     "output_type": "stream",
     "text": [
      "Adult\n"
     ]
    }
   ],
   "source": [
    "age = 24\n",
    "\n",
    "if age < 2:\n",
    "  print('Baby')\n",
    "elif age <= 2 or age < 4:\n",
    "  print('Toddler')\n",
    "elif age <= 4 or age < 13:\n",
    "  print('Kid')\n",
    "elif age <= 13 or age < 20:\n",
    "  print('Teen')\n",
    "elif age <= 20 or age < 65:\n",
    "  print('Adult')\n",
    "elif age <= 65:\n",
    "  print('Elder')"
   ]
  },
  {
   "cell_type": "code",
   "execution_count": 7,
   "metadata": {},
   "outputs": [
    {
     "name": "stdout",
     "output_type": "stream",
     "text": [
      "You like apples\n",
      "You like bananas\n",
      "you like strawberries\n"
     ]
    }
   ],
   "source": [
    "fav_fruits = ['apple', 'strawberry', 'banana']\n",
    "\n",
    "if 'apple' in fav_fruits:\n",
    "  print('You like apples')\n",
    "if 'peach' in fav_fruits:\n",
    "  print('you like peaches')\n",
    "if 'banana' in fav_fruits:\n",
    "  print('You like bananas')\n",
    "if 'kiwi' in fav_fruits:\n",
    "  print('you like kiwis')\n",
    "if 'strawberry' in fav_fruits:\n",
    "  print('you like strawberries')"
   ]
  },
  {
   "cell_type": "code",
   "execution_count": 8,
   "metadata": {},
   "outputs": [
    {
     "name": "stdout",
     "output_type": "stream",
     "text": [
      "Adding mushrooms.\n",
      "sorry we're out of green peppers\n",
      "Adding extra cheese.\n",
      "\n",
      "Finished making your pizza!\n"
     ]
    }
   ],
   "source": [
    "requested_toppings = ['mushrooms', 'green peppers', 'extra cheese']\n",
    "\n",
    "for requested_topping in requested_toppings:\n",
    "    if requested_topping == 'green peppers':\n",
    "      print(\"sorry we're out of green peppers\")\n",
    "    else:\n",
    "      print(\"Adding \" + requested_topping + \".\")\n",
    "    \n",
    "print(\"\\nFinished making your pizza!\")"
   ]
  },
  {
   "cell_type": "code",
   "execution_count": 10,
   "metadata": {},
   "outputs": [
    {
     "name": "stdout",
     "output_type": "stream",
     "text": [
      "Are you sure you want a plain pizza?\n"
     ]
    }
   ],
   "source": [
    "requested_toppings = []\n",
    "\n",
    "if requested_toppings:\n",
    "  for requested_topping in requested_toppings:\n",
    "    print('Adding ' + requested_topping + '.')\n",
    "else:\n",
    "  print('Are you sure you want a plain pizza?')"
   ]
  },
  {
   "cell_type": "code",
   "execution_count": 13,
   "metadata": {},
   "outputs": [
    {
     "name": "stdout",
     "output_type": "stream",
     "text": [
      "Hello Dean, would you like to see the Student Records?\n",
      "Welcome to the Study Group Chat Room, Jeff\n",
      "Welcome to the Study Group Chat Room, Annie\n",
      "Welcome to the Study Group Chat Room, Troy\n",
      "Welcome to the Study Group Chat Room, Abed\n",
      "Welcome to the Study Group Chat Room, Shirley\n",
      "Welcome to the Study Group Chat Room, Britta\n"
     ]
    }
   ],
   "source": [
    "users = ['Dean Pelton', 'jeff', 'annie', 'troy', 'abed', 'shirley', 'britta']\n",
    "\n",
    "for user in users:\n",
    "  if user == 'Dean Pelton':\n",
    "    print('Hello Dean, would you like to see the Student Records?')\n",
    "  else:\n",
    "    print('Welcome to the Study Group Chat Room, ' + user.title())"
   ]
  },
  {
   "cell_type": "code",
   "execution_count": 16,
   "metadata": {},
   "outputs": [
    {
     "name": "stdout",
     "output_type": "stream",
     "text": [
      "You have no members in your study group :(\n"
     ]
    }
   ],
   "source": [
    "users = []\n",
    "\n",
    "if users:\n",
    "  for user in users:\n",
    "    print('Hello, ' + user.title())\n",
    "else:\n",
    "  print('You have no members in your study group :(')"
   ]
  },
  {
   "cell_type": "code",
   "execution_count": 23,
   "metadata": {},
   "outputs": [
    {
     "name": "stdout",
     "output_type": "stream",
     "text": [
      "welcome hinkie\n",
      "welcome leeroy\n",
      "welcome frankie\n",
      "User name jeff is taken\n"
     ]
    }
   ],
   "source": [
    "current_users = ['jeff', 'annie', 'abed', 'britta']\n",
    "new_users = ['hinkie', 'leeroy', 'frankie', 'jeff']\n",
    "\n",
    "for new_user in new_users:\n",
    "  if new_user.lower() in current_users:\n",
    "    print('User name ' + new_user + ' is taken')\n",
    "  else:\n",
    "    print('welcome ' + new_user)"
   ]
  },
  {
   "cell_type": "code",
   "execution_count": 3,
   "metadata": {},
   "outputs": [
    {
     "ename": "SyntaxError",
     "evalue": "can't assign to function call (<ipython-input-3-9945d2939463>, line 2)",
     "output_type": "error",
     "traceback": [
      "\u001b[0;36m  File \u001b[0;32m\"<ipython-input-3-9945d2939463>\"\u001b[0;36m, line \u001b[0;32m2\u001b[0m\n\u001b[0;31m    int(seats) = input(prompt)\u001b[0m\n\u001b[0m                              ^\u001b[0m\n\u001b[0;31mSyntaxError\u001b[0m\u001b[0;31m:\u001b[0m can't assign to function call\n"
     ]
    }
   ],
   "source": [
    "prompt = \"how many?\"\n",
    "int(seats) = input(prompt)\n",
    "\n",
    "if seats > 8:\n",
    "  print('Nope')\n",
    "else:\n",
    "  print('Your table is ready')"
   ]
  },
  {
   "cell_type": "code",
   "execution_count": 6,
   "metadata": {},
   "outputs": [
    {
     "name": "stdout",
     "output_type": "stream",
     "text": [
      "Multiple of ten\n"
     ]
    }
   ],
   "source": [
    "def ten(x):\n",
    "  if x % 10 == 0:\n",
    "    print('Multiple of ten')\n",
    "  else:\n",
    "    print('nope')\n",
    "\n",
    "ten(10)"
   ]
  },
  {
   "cell_type": "code",
   "execution_count": null,
   "metadata": {},
   "outputs": [],
   "source": []
  }
 ],
 "metadata": {
  "kernelspec": {
   "display_name": "Python 3",
   "language": "python",
   "name": "python3"
  },
  "language_info": {
   "codemirror_mode": {
    "name": "ipython",
    "version": 3
   },
   "file_extension": ".py",
   "mimetype": "text/x-python",
   "name": "python",
   "nbconvert_exporter": "python",
   "pygments_lexer": "ipython3",
   "version": "3.6.5"
  }
 },
 "nbformat": 4,
 "nbformat_minor": 2
}
